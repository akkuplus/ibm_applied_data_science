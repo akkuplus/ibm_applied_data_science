{
 "cells": [
  {
   "cell_type": "markdown",
   "metadata": {},
   "source": [
    "### 0. Load DataFrame from previous Jupyther Notebook!\n",
    "\n"
   ]
  },
  {
   "cell_type": "code",
   "execution_count": null,
   "metadata": {
    "scrolled": true
   },
   "outputs": [],
   "source": [
    "import pandas as pd\n",
    "Canada = pd.read_pickle(\"./Canada.pkl\")\n",
    "Canada"
   ]
  },
  {
   "cell_type": "markdown",
   "metadata": {},
   "source": [
    "### 1. Use the geocoder library to find coordinates for postalcodes\n",
    "\n",
    "**Task:** *Use the Geocoder package to get the latitude and the longitude coordinates for all the neighborhoods in our dataframe.*\n",
    "\n",
    "Define a function \"find_coordinates\", that returns the coordinates for a given Postalcode. I tried Google and some other geocoder apis. Sadly, sometimes a request to the api server ends with timeout, some postalcodes can't be resolved, or the count of the queries is limited. Therefore, at first I request \"geocodefarm\", and afterwards I call \"Photon\"."
   ]
  },
  {
   "cell_type": "code",
   "execution_count": null,
   "metadata": {
    "scrolled": true
   },
   "outputs": [],
   "source": [
    "#!conda install -c conda-forge geocoder --yes # install in case...\n",
    "\n",
    "import geocoder\n",
    "import numpy as np\n",
    "\n",
    "\n",
    "def find_coordinates ( df ):\n",
    "    # loop until found coords\n",
    "    \n",
    "    lat_lng_coords = None\n",
    "    count = 0\n",
    "\n",
    "    while(lat_lng_coords is None and count <10):\n",
    "        lat_lng_coords = geocoder.geocodefarm( '{}, Canada'.format( df['Postalcode'] ))\n",
    "        # Other API, I tried:\n",
    "        #lat_lng_coords = Nominatim().geocode('{}, Canada'.format( df['Postalcode'] ) )\n",
    "        #lat_lng_coords = geocoder.google('{}, Canada'.format(df['Postalcode'])).latlng\n",
    "        #lat_lng_coords = geocoder.geocode( '{}, Canada'.format( df['Postalcode'] ))\n",
    "        count +=1\n",
    "    \n",
    "    try:\n",
    "        print ( 'Postcode: {}, Lat: {}, Lng: {}.'.format( \n",
    "            df['Postalcode'], \n",
    "            lat_lng_coords.json['lat'], \n",
    "            lat_lng_coords.json['lng']  ))\n",
    "        return [ lat_lng_coords.longitude, lat_lng_coords.latitude ]\n",
    "    \n",
    "    except:\n",
    "        print ( 'Postcode: {} is NA'.format( df['Postalcode'] ))\n",
    "        return [ np.nan, np.nan ]\n",
    "    \n",
    "Canada[['Latitude','Longitude']] =  Canada.apply( find_coordinates, axis=1, result_type=\"expand\")"
   ]
  },
  {
   "cell_type": "markdown",
   "metadata": {},
   "source": [
    "If a postalcodes can't be resolved to their coordinates, I request those entries with Photon."
   ]
  },
  {
   "cell_type": "code",
   "execution_count": null,
   "metadata": {},
   "outputs": [],
   "source": [
    "from geopy.geocoders import Photon\n",
    "geocoder = Photon()\n",
    "\n",
    "print('Resolving postcalcodes...')\n",
    "\n",
    "unlocatedCodes  = Canada['Postalcode'][ Canada['Latitude'].isna() ]\n",
    "while not unlocatedCodes.empty:\n",
    "    try:\n",
    "        for code in unlocatedCodes.iloc[:]:\n",
    "            print (  code )\n",
    "            lat_lng_coords = geocoder.geocode( '{}, Canada'.format( code ))\n",
    "            Canada.loc[ Canada['Postalcode'] == code, ['Latitude','Longitude']] = [ lat_lng_coords.longitude, lat_lng_coords.latitude ]\n",
    "    except:\n",
    "        pass\n",
    "    finally:\n",
    "        unlocatedCodes  = Canada['Postalcode'][ Canada['Latitude'].isna() ]\n",
    "\n",
    "print ('All Postalcodes resolved to their coordinates: {}'.format( Canada['Postalcode'][ Canada['Latitude'].isna() ].empty ) )"
   ]
  },
  {
   "cell_type": "markdown",
   "metadata": {},
   "source": [
    "Apply the function \"find_coordinates\" to each Postalcode in Canada and build new columns for these coordinates:"
   ]
  },
  {
   "cell_type": "code",
   "execution_count": null,
   "metadata": {},
   "outputs": [],
   "source": [
    "Canada"
   ]
  },
  {
   "cell_type": "markdown",
   "metadata": {},
   "source": [
    "### 2. Save DataFrame with coordinates"
   ]
  },
  {
   "cell_type": "code",
   "execution_count": null,
   "metadata": {},
   "outputs": [],
   "source": [
    "Canada.to_pickle(\"./Canada_with_Coor.pkl\")"
   ]
  },
  {
   "cell_type": "code",
   "execution_count": null,
   "metadata": {},
   "outputs": [],
   "source": []
  },
  {
   "cell_type": "code",
   "execution_count": null,
   "metadata": {},
   "outputs": [],
   "source": [
    "'''# For TEST purposes only: Geocoder API for Google\n",
    "from pygeocoder import Geocoder\n",
    "results = Geocoder.geocode(\"4207 N Washington Ave, Douglas, AZ 85607\")\n",
    "results.coordinates\n",
    "'''"
   ]
  }
 ],
 "metadata": {
  "kernelspec": {
   "display_name": "Python 3",
   "language": "python",
   "name": "python3"
  },
  "language_info": {
   "codemirror_mode": {
    "name": "ipython",
    "version": 3
   },
   "file_extension": ".py",
   "mimetype": "text/x-python",
   "name": "python",
   "nbconvert_exporter": "python",
   "pygments_lexer": "ipython3",
   "version": "3.6.4"
  }
 },
 "nbformat": 4,
 "nbformat_minor": 2
}
