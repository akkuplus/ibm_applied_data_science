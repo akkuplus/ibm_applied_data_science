{
 "cells": [
  {
   "cell_type": "markdown",
   "metadata": {},
   "source": [
    "### 0. Install libaries\n",
    "\n",
    "I need the following packages. In case, just install them!"
   ]
  },
  {
   "cell_type": "code",
   "execution_count": null,
   "metadata": {},
   "outputs": [],
   "source": [
    "#!conda install -c conda-forge beautifulsoup4 --yes\n",
    "#!conda install -c conda-forge requests --yes "
   ]
  },
  {
   "cell_type": "markdown",
   "metadata": {},
   "source": [
    "### 1. Transform data from wiki into a dataframe"
   ]
  },
  {
   "cell_type": "markdown",
   "metadata": {},
   "source": [
    "Call the wiki-html and find all tables in html-code:"
   ]
  },
  {
   "cell_type": "code",
   "execution_count": null,
   "metadata": {},
   "outputs": [],
   "source": [
    "from bs4 import BeautifulSoup\n",
    "import requests\n",
    "\n",
    "# get html of the url\n",
    "url = 'https://en.wikipedia.org/wiki/List_of_postal_codes_of_Canada:_M'\n",
    "results = requests.get(url)\n",
    "results.text\n",
    "\n",
    "# find tables in wiki-html\n",
    "soup = BeautifulSoup( results.text, 'html.parser')\n",
    "tables = soup.find_all('table', class_='sortable')\n",
    "print ('Found {} table(s) in the extracted wiki-html.'.format( len (tables ) ) )"
   ]
  },
  {
   "cell_type": "markdown",
   "metadata": {},
   "source": [
    "Scrap the of the wiki-html-table headings:"
   ]
  },
  {
   "cell_type": "code",
   "execution_count": null,
   "metadata": {
    "scrolled": true
   },
   "outputs": [],
   "source": [
    "ths = tables[0].find_all('th')  # find all headings in table \n",
    "headings = [th.text.strip() for th in ths]\n",
    "headings"
   ]
  },
  {
   "cell_type": "markdown",
   "metadata": {},
   "source": [
    "Rename one column:"
   ]
  },
  {
   "cell_type": "code",
   "execution_count": null,
   "metadata": {
    "scrolled": false
   },
   "outputs": [],
   "source": [
    "headings[0] =  'Postalcode'\n",
    "\n",
    "headings"
   ]
  },
  {
   "cell_type": "markdown",
   "metadata": {},
   "source": [
    "Scrap the content of the wiki-html-table:"
   ]
  },
  {
   "cell_type": "code",
   "execution_count": null,
   "metadata": {},
   "outputs": [],
   "source": [
    "rows = []\n",
    "\n",
    "for tr in tables[0].find_all('tr'): # find all rows in table\n",
    "    tds = tr.find_all('td')\n",
    "    if not tds: # if NOT table data, for example the headings of the table\n",
    "        continue\n",
    "    row = [td.text.strip() for td in tds[:3]]\n",
    "    rows.append(row)\n",
    "rows "
   ]
  },
  {
   "cell_type": "markdown",
   "metadata": {},
   "source": [
    "Build Dataframe from extracted headings and the data-array \"rows\" as the list of lists:"
   ]
  },
  {
   "cell_type": "code",
   "execution_count": null,
   "metadata": {
    "scrolled": true
   },
   "outputs": [],
   "source": [
    "import pandas as pd\n",
    "Canada = pd.DataFrame(rows, columns=headings)\n",
    "\n",
    "Canada\n",
    "\n",
    "# To shorten the scraping process one can use:\n",
    "# Canada = pd.read_html(url, header=0)[0]"
   ]
  },
  {
   "cell_type": "markdown",
   "metadata": {},
   "source": [
    "### 2. Clean Dataframe"
   ]
  },
  {
   "cell_type": "markdown",
   "metadata": {},
   "source": [
    "**Task:** *Only process the cells that have an assigned borough. Ignore cells with a borough that is Not assigned.*\n",
    "\n",
    "Drop rows where column \"Borough\" has the value \"Not assigned\":"
   ]
  },
  {
   "cell_type": "code",
   "execution_count": null,
   "metadata": {
    "scrolled": true
   },
   "outputs": [],
   "source": [
    "import numpy as np\n",
    "\n",
    "Canada.replace(to_replace='Not assigned', value=np.NaN, inplace=True)\n",
    "Canada.dropna(axis=0, subset=['Borough'], inplace=True)\n",
    "Canada.reset_index(drop = True, inplace = True)\n",
    "Canada"
   ]
  },
  {
   "cell_type": "markdown",
   "metadata": {},
   "source": [
    "**Task:** *If a cell has a borough but a Not assigned neighborhood, then the neighborhood will be the same as the borough. So for the 9th cell in the table on the Wikipedia page, the value of the Borough and the Neighborhood columns will be Queen's Park.*\n",
    "\n",
    "Replace empty fields of Neighbourhood with their Borough:"
   ]
  },
  {
   "cell_type": "code",
   "execution_count": null,
   "metadata": {},
   "outputs": [],
   "source": [
    "Index = Canada['Neighbourhood'].isna()\n",
    "print (Canada['Borough'].loc[Index]) # just one replacement\n",
    "Canada['Neighbourhood'].loc[Index] = Canada['Borough'].loc[Index]"
   ]
  },
  {
   "cell_type": "markdown",
   "metadata": {},
   "source": [
    "**Task:** *More than one neighborhood can exist in one postal code area. For example, in the table on the Wikipedia page, you will notice that M5A is listed twice and has two neighborhoods: Harbourfront and Regent Park. These two rows will be combined into one row with the neighborhoods separated with a comma as shown in row 11 in the above table.*\n",
    "\n",
    "Group by Postalcode, that means concenate all values of Neighbourhood per value of Postalcode:"
   ]
  },
  {
   "cell_type": "code",
   "execution_count": null,
   "metadata": {},
   "outputs": [],
   "source": [
    "grouped = Canada.groupby(['Postalcode','Borough'])\n",
    "\n",
    "rows = []\n",
    "\n",
    "for name,group in grouped:\n",
    "    #print( name)\n",
    "    #print (group[['Postalcode','Borough']])\n",
    "    row = [ name[0], name[1], (', '.join(group['Neighbourhood']) )]\n",
    "    rows.append(row)\n",
    "\n",
    "Canada = pd.DataFrame(rows, columns=headings)\n",
    "pd.set_option('max_colwidth',140)\n",
    "Canada"
   ]
  },
  {
   "cell_type": "markdown",
   "metadata": {},
   "source": [
    "**Task:** *In the last cell of your notebook, use the .shape method to print the number of rows of your dataframe.*"
   ]
  },
  {
   "cell_type": "code",
   "execution_count": null,
   "metadata": {
    "scrolled": true
   },
   "outputs": [],
   "source": [
    "Canada.shape"
   ]
  },
  {
   "cell_type": "markdown",
   "metadata": {},
   "source": [
    "Save DataFrame via object serialization with pickle."
   ]
  },
  {
   "cell_type": "code",
   "execution_count": null,
   "metadata": {},
   "outputs": [],
   "source": [
    "Canada.to_pickle(\"./Canada.pkl\")"
   ]
  }
 ],
 "metadata": {
  "kernelspec": {
   "display_name": "Python 3",
   "language": "python",
   "name": "python3"
  },
  "language_info": {
   "codemirror_mode": {
    "name": "ipython",
    "version": 3
   },
   "file_extension": ".py",
   "mimetype": "text/x-python",
   "name": "python",
   "nbconvert_exporter": "python",
   "pygments_lexer": "ipython3",
   "version": "3.6.4"
  }
 },
 "nbformat": 4,
 "nbformat_minor": 2
}
